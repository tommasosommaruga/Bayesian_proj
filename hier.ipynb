{
 "cells": [
  {
   "cell_type": "code",
   "execution_count": null,
   "metadata": {},
   "outputs": [],
   "source": [
    "import pandas as pd\n",
    "\n",
    "# Load Serie A and Premier League data from JSON\n",
    "serie_a_path = './football.json-master/2023-24/it.1.json'\n",
    "premier_league_path = './football.json-master/2023-24/en.1.json'\n",
    "\n",
    "serie_a = pd.read_json(serie_a_path)\n",
    "premier_league = pd.read_json(premier_league_path)\n",
    "\n",
    "# Add league column to distinguish between Serie A and Premier League\n",
    "serie_a['league'] = 'Serie A'\n",
    "premier_league['league'] = 'Premier League'\n",
    "\n",
    "# Combine both datasets\n",
    "data = pd.concat([serie_a, premier_league], ignore_index=True)\n"
   ]
  },
  {
   "cell_type": "code",
   "execution_count": null,
   "metadata": {},
   "outputs": [],
   "source": [
    "# Check column names to ensure correct references (you may need to adjust if the actual names differ)\n",
    "# Assuming the columns are: 'team1' and 'team2' for teams, 'ft_team1' and 'ft_team2' for full-time scores\n",
    "\n",
    "# Create a 'home_win' column: 1 if home team wins (ft_team1 > ft_team2), else 0\n",
    "data['home_win'] = (data['ft_team1'] > data['ft_team2']).astype(int)\n",
    "\n",
    "# Filter data for Serie A and Premier League\n",
    "serie_a_data = data[data['league'] == 'Serie A']\n",
    "premier_league_data = data[data['league'] == 'Premier League']\n"
   ]
  },
  {
   "cell_type": "code",
   "execution_count": null,
   "metadata": {},
   "outputs": [],
   "source": [
    "# Calculate home win probability for Serie A and Premier League\n",
    "serie_a_home_win_prob = serie_a_data['home_win'].mean()\n",
    "premier_league_home_win_prob = premier_league_data['home_win'].mean()\n",
    "\n",
    "# Calculate the difference in probabilities\n",
    "prob_diff = serie_a_home_win_prob - premier_league_home_win_prob\n",
    "\n",
    "# Print the results\n",
    "print(f\"Serie A Home Win Probability: {serie_a_home_win_prob:.2f}\")\n",
    "print(f\"Premier League Home Win Probability: {premier_league_home_win_prob:.2f}\")\n",
    "print(f\"Difference in Home Win Probability: {prob_diff:.2f}\")\n"
   ]
  },
  {
   "cell_type": "code",
   "execution_count": null,
   "metadata": {},
   "outputs": [],
   "source": [
    "from scipy.stats import ttest_ind\n",
    "\n",
    "# Perform a t-test to compare the home win rates between the two leagues\n",
    "t_stat, p_value = ttest_ind(serie_a_data['home_win'], premier_league_data['home_win'], equal_var=False)\n",
    "\n",
    "print(f\"T-statistic: {t_stat:.2f}\")\n",
    "print(f\"P-value: {p_value:.4f}\")\n",
    "\n",
    "# If p-value is less than 0.05, the difference is statistically significant\n",
    "if p_value < 0.05:\n",
    "    print(\"The difference in home win probability is statistically significant.\")\n",
    "else:\n",
    "    print(\"The difference in home win probability is not statistically significant.\")\n"
   ]
  }
 ],
 "metadata": {
  "kernelspec": {
   "display_name": "bayesian_env",
   "language": "python",
   "name": "python3"
  },
  "language_info": {
   "name": "python",
   "version": "3.11.10"
  }
 },
 "nbformat": 4,
 "nbformat_minor": 2
}
